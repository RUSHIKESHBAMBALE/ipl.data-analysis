{
  "cells": [
    {
      "cell_type": "markdown",
      "metadata": {
        "id": "view-in-github",
        "colab_type": "text"
      },
      "source": [
        "<a href=\"https://colab.research.google.com/github/RUSHIKESHBAMBALE/ipl.data-analysis/blob/main/ipl_data_analysis.ipynb\" target=\"_parent\"><img src=\"https://colab.research.google.com/assets/colab-badge.svg\" alt=\"Open In Colab\"/></a>"
      ]
    },
    {
      "cell_type": "code",
      "execution_count": null,
      "metadata": {
        "id": "qtDiTH5xIIvy"
      },
      "outputs": [],
      "source": [
        "#ipl data analysis\n",
        "#Importing Libraries\n",
        "\n",
        "\n",
        "\n",
        "import math\n",
        "import numpy as np\n",
        "import pandas as pd\n",
        "import seaborn as sns\n",
        "import matplotlib.pyplot as plt\n",
        "%matplotlib inline"
      ]
    },
    {
      "cell_type": "code",
      "source": [
        "#IPL Dataset\n",
        "#Importing IPL Dataset\n",
        "import pandas as pd\n",
        "\n",
        "\n",
        "df=pd.read_csv('/content/IPL Dataset.csv')\n",
        "df.head()\n"
      ],
      "metadata": {
        "colab": {
          "base_uri": "https://localhost:8080/",
          "height": 473
        },
        "id": "pR3nGyuZxCBn",
        "outputId": "031f3c9b-4bc1-4a81-c0c7-a7d046fb65a0"
      },
      "execution_count": null,
      "outputs": [
        {
          "output_type": "execute_result",
          "data": {
            "text/plain": [
              "   match_id  season  start_date                  venue  innings  ball  \\\n",
              "0    335982    2008  2008-04-18  M.Chinnaswamy Stadium        1   0.1   \n",
              "1    335982    2008  2008-04-18  M.Chinnaswamy Stadium        1   0.2   \n",
              "2    335982    2008  2008-04-18  M.Chinnaswamy Stadium        1   0.3   \n",
              "3    335982    2008  2008-04-18  M.Chinnaswamy Stadium        1   0.4   \n",
              "4    335982    2008  2008-04-18  M.Chinnaswamy Stadium        1   0.5   \n",
              "\n",
              "            batting_team                 bowling_team      striker  \\\n",
              "0  Kolkata Knight Riders  Royal Challengers Bangalore   SC Ganguly   \n",
              "1  Kolkata Knight Riders  Royal Challengers Bangalore  BB McCullum   \n",
              "2  Kolkata Knight Riders  Royal Challengers Bangalore  BB McCullum   \n",
              "3  Kolkata Knight Riders  Royal Challengers Bangalore  BB McCullum   \n",
              "4  Kolkata Knight Riders  Royal Challengers Bangalore  BB McCullum   \n",
              "\n",
              "   non_striker  ... runs_off_bat  extras  wides  noballs  byes  legbyes  \\\n",
              "0  BB McCullum  ...            0       1    0.0      0.0   0.0      1.0   \n",
              "1   SC Ganguly  ...            0       0    0.0      0.0   0.0      0.0   \n",
              "2   SC Ganguly  ...            0       1    1.0      0.0   0.0      0.0   \n",
              "3   SC Ganguly  ...            0       0    0.0      0.0   0.0      0.0   \n",
              "4   SC Ganguly  ...            0       0    0.0      0.0   0.0      0.0   \n",
              "\n",
              "   wicket_type player_dismissed run  over  \n",
              "0                                 1     0  \n",
              "1                                 0     0  \n",
              "2                                 1     0  \n",
              "3                                 0     0  \n",
              "4                                 0     0  \n",
              "\n",
              "[5 rows x 21 columns]"
            ],
            "text/html": [
              "\n",
              "  <div id=\"df-020bca17-3595-4817-9a71-79e5494249d2\">\n",
              "    <div class=\"colab-df-container\">\n",
              "      <div>\n",
              "<style scoped>\n",
              "    .dataframe tbody tr th:only-of-type {\n",
              "        vertical-align: middle;\n",
              "    }\n",
              "\n",
              "    .dataframe tbody tr th {\n",
              "        vertical-align: top;\n",
              "    }\n",
              "\n",
              "    .dataframe thead th {\n",
              "        text-align: right;\n",
              "    }\n",
              "</style>\n",
              "<table border=\"1\" class=\"dataframe\">\n",
              "  <thead>\n",
              "    <tr style=\"text-align: right;\">\n",
              "      <th></th>\n",
              "      <th>match_id</th>\n",
              "      <th>season</th>\n",
              "      <th>start_date</th>\n",
              "      <th>venue</th>\n",
              "      <th>innings</th>\n",
              "      <th>ball</th>\n",
              "      <th>batting_team</th>\n",
              "      <th>bowling_team</th>\n",
              "      <th>striker</th>\n",
              "      <th>non_striker</th>\n",
              "      <th>...</th>\n",
              "      <th>runs_off_bat</th>\n",
              "      <th>extras</th>\n",
              "      <th>wides</th>\n",
              "      <th>noballs</th>\n",
              "      <th>byes</th>\n",
              "      <th>legbyes</th>\n",
              "      <th>wicket_type</th>\n",
              "      <th>player_dismissed</th>\n",
              "      <th>run</th>\n",
              "      <th>over</th>\n",
              "    </tr>\n",
              "  </thead>\n",
              "  <tbody>\n",
              "    <tr>\n",
              "      <th>0</th>\n",
              "      <td>335982</td>\n",
              "      <td>2008</td>\n",
              "      <td>2008-04-18</td>\n",
              "      <td>M.Chinnaswamy Stadium</td>\n",
              "      <td>1</td>\n",
              "      <td>0.1</td>\n",
              "      <td>Kolkata Knight Riders</td>\n",
              "      <td>Royal Challengers Bangalore</td>\n",
              "      <td>SC Ganguly</td>\n",
              "      <td>BB McCullum</td>\n",
              "      <td>...</td>\n",
              "      <td>0</td>\n",
              "      <td>1</td>\n",
              "      <td>0.0</td>\n",
              "      <td>0.0</td>\n",
              "      <td>0.0</td>\n",
              "      <td>1.0</td>\n",
              "      <td></td>\n",
              "      <td></td>\n",
              "      <td>1</td>\n",
              "      <td>0</td>\n",
              "    </tr>\n",
              "    <tr>\n",
              "      <th>1</th>\n",
              "      <td>335982</td>\n",
              "      <td>2008</td>\n",
              "      <td>2008-04-18</td>\n",
              "      <td>M.Chinnaswamy Stadium</td>\n",
              "      <td>1</td>\n",
              "      <td>0.2</td>\n",
              "      <td>Kolkata Knight Riders</td>\n",
              "      <td>Royal Challengers Bangalore</td>\n",
              "      <td>BB McCullum</td>\n",
              "      <td>SC Ganguly</td>\n",
              "      <td>...</td>\n",
              "      <td>0</td>\n",
              "      <td>0</td>\n",
              "      <td>0.0</td>\n",
              "      <td>0.0</td>\n",
              "      <td>0.0</td>\n",
              "      <td>0.0</td>\n",
              "      <td></td>\n",
              "      <td></td>\n",
              "      <td>0</td>\n",
              "      <td>0</td>\n",
              "    </tr>\n",
              "    <tr>\n",
              "      <th>2</th>\n",
              "      <td>335982</td>\n",
              "      <td>2008</td>\n",
              "      <td>2008-04-18</td>\n",
              "      <td>M.Chinnaswamy Stadium</td>\n",
              "      <td>1</td>\n",
              "      <td>0.3</td>\n",
              "      <td>Kolkata Knight Riders</td>\n",
              "      <td>Royal Challengers Bangalore</td>\n",
              "      <td>BB McCullum</td>\n",
              "      <td>SC Ganguly</td>\n",
              "      <td>...</td>\n",
              "      <td>0</td>\n",
              "      <td>1</td>\n",
              "      <td>1.0</td>\n",
              "      <td>0.0</td>\n",
              "      <td>0.0</td>\n",
              "      <td>0.0</td>\n",
              "      <td></td>\n",
              "      <td></td>\n",
              "      <td>1</td>\n",
              "      <td>0</td>\n",
              "    </tr>\n",
              "    <tr>\n",
              "      <th>3</th>\n",
              "      <td>335982</td>\n",
              "      <td>2008</td>\n",
              "      <td>2008-04-18</td>\n",
              "      <td>M.Chinnaswamy Stadium</td>\n",
              "      <td>1</td>\n",
              "      <td>0.4</td>\n",
              "      <td>Kolkata Knight Riders</td>\n",
              "      <td>Royal Challengers Bangalore</td>\n",
              "      <td>BB McCullum</td>\n",
              "      <td>SC Ganguly</td>\n",
              "      <td>...</td>\n",
              "      <td>0</td>\n",
              "      <td>0</td>\n",
              "      <td>0.0</td>\n",
              "      <td>0.0</td>\n",
              "      <td>0.0</td>\n",
              "      <td>0.0</td>\n",
              "      <td></td>\n",
              "      <td></td>\n",
              "      <td>0</td>\n",
              "      <td>0</td>\n",
              "    </tr>\n",
              "    <tr>\n",
              "      <th>4</th>\n",
              "      <td>335982</td>\n",
              "      <td>2008</td>\n",
              "      <td>2008-04-18</td>\n",
              "      <td>M.Chinnaswamy Stadium</td>\n",
              "      <td>1</td>\n",
              "      <td>0.5</td>\n",
              "      <td>Kolkata Knight Riders</td>\n",
              "      <td>Royal Challengers Bangalore</td>\n",
              "      <td>BB McCullum</td>\n",
              "      <td>SC Ganguly</td>\n",
              "      <td>...</td>\n",
              "      <td>0</td>\n",
              "      <td>0</td>\n",
              "      <td>0.0</td>\n",
              "      <td>0.0</td>\n",
              "      <td>0.0</td>\n",
              "      <td>0.0</td>\n",
              "      <td></td>\n",
              "      <td></td>\n",
              "      <td>0</td>\n",
              "      <td>0</td>\n",
              "    </tr>\n",
              "  </tbody>\n",
              "</table>\n",
              "<p>5 rows × 21 columns</p>\n",
              "</div>\n",
              "      <button class=\"colab-df-convert\" onclick=\"convertToInteractive('df-020bca17-3595-4817-9a71-79e5494249d2')\"\n",
              "              title=\"Convert this dataframe to an interactive table.\"\n",
              "              style=\"display:none;\">\n",
              "        \n",
              "  <svg xmlns=\"http://www.w3.org/2000/svg\" height=\"24px\"viewBox=\"0 0 24 24\"\n",
              "       width=\"24px\">\n",
              "    <path d=\"M0 0h24v24H0V0z\" fill=\"none\"/>\n",
              "    <path d=\"M18.56 5.44l.94 2.06.94-2.06 2.06-.94-2.06-.94-.94-2.06-.94 2.06-2.06.94zm-11 1L8.5 8.5l.94-2.06 2.06-.94-2.06-.94L8.5 2.5l-.94 2.06-2.06.94zm10 10l.94 2.06.94-2.06 2.06-.94-2.06-.94-.94-2.06-.94 2.06-2.06.94z\"/><path d=\"M17.41 7.96l-1.37-1.37c-.4-.4-.92-.59-1.43-.59-.52 0-1.04.2-1.43.59L10.3 9.45l-7.72 7.72c-.78.78-.78 2.05 0 2.83L4 21.41c.39.39.9.59 1.41.59.51 0 1.02-.2 1.41-.59l7.78-7.78 2.81-2.81c.8-.78.8-2.07 0-2.86zM5.41 20L4 18.59l7.72-7.72 1.47 1.35L5.41 20z\"/>\n",
              "  </svg>\n",
              "      </button>\n",
              "      \n",
              "  <style>\n",
              "    .colab-df-container {\n",
              "      display:flex;\n",
              "      flex-wrap:wrap;\n",
              "      gap: 12px;\n",
              "    }\n",
              "\n",
              "    .colab-df-convert {\n",
              "      background-color: #E8F0FE;\n",
              "      border: none;\n",
              "      border-radius: 50%;\n",
              "      cursor: pointer;\n",
              "      display: none;\n",
              "      fill: #1967D2;\n",
              "      height: 32px;\n",
              "      padding: 0 0 0 0;\n",
              "      width: 32px;\n",
              "    }\n",
              "\n",
              "    .colab-df-convert:hover {\n",
              "      background-color: #E2EBFA;\n",
              "      box-shadow: 0px 1px 2px rgba(60, 64, 67, 0.3), 0px 1px 3px 1px rgba(60, 64, 67, 0.15);\n",
              "      fill: #174EA6;\n",
              "    }\n",
              "\n",
              "    [theme=dark] .colab-df-convert {\n",
              "      background-color: #3B4455;\n",
              "      fill: #D2E3FC;\n",
              "    }\n",
              "\n",
              "    [theme=dark] .colab-df-convert:hover {\n",
              "      background-color: #434B5C;\n",
              "      box-shadow: 0px 1px 3px 1px rgba(0, 0, 0, 0.15);\n",
              "      filter: drop-shadow(0px 1px 2px rgba(0, 0, 0, 0.3));\n",
              "      fill: #FFFFFF;\n",
              "    }\n",
              "  </style>\n",
              "\n",
              "      <script>\n",
              "        const buttonEl =\n",
              "          document.querySelector('#df-020bca17-3595-4817-9a71-79e5494249d2 button.colab-df-convert');\n",
              "        buttonEl.style.display =\n",
              "          google.colab.kernel.accessAllowed ? 'block' : 'none';\n",
              "\n",
              "        async function convertToInteractive(key) {\n",
              "          const element = document.querySelector('#df-020bca17-3595-4817-9a71-79e5494249d2');\n",
              "          const dataTable =\n",
              "            await google.colab.kernel.invokeFunction('convertToInteractive',\n",
              "                                                     [key], {});\n",
              "          if (!dataTable) return;\n",
              "\n",
              "          const docLinkHtml = 'Like what you see? Visit the ' +\n",
              "            '<a target=\"_blank\" href=https://colab.research.google.com/notebooks/data_table.ipynb>data table notebook</a>'\n",
              "            + ' to learn more about interactive tables.';\n",
              "          element.innerHTML = '';\n",
              "          dataTable['output_type'] = 'display_data';\n",
              "          await google.colab.output.renderOutput(dataTable, element);\n",
              "          const docLink = document.createElement('div');\n",
              "          docLink.innerHTML = docLinkHtml;\n",
              "          element.appendChild(docLink);\n",
              "        }\n",
              "      </script>\n",
              "    </div>\n",
              "  </div>\n",
              "  "
            ]
          },
          "metadata": {},
          "execution_count": 1
        }
      ]
    },
    {
      "cell_type": "code",
      "source": [
        "#Checking IPL Dataset Attributes\n",
        "\n",
        "\n",
        "df.info()\n"
      ],
      "metadata": {
        "colab": {
          "base_uri": "https://localhost:8080/"
        },
        "id": "OpsHulxLxkZl",
        "outputId": "f10201c3-a5a7-42f3-8567-5e80886cd281"
      },
      "execution_count": null,
      "outputs": [
        {
          "output_type": "stream",
          "name": "stdout",
          "text": [
            "<class 'pandas.core.frame.DataFrame'>\n",
            "RangeIndex: 194354 entries, 0 to 194353\n",
            "Data columns (total 21 columns):\n",
            " #   Column            Non-Null Count   Dtype  \n",
            "---  ------            --------------   -----  \n",
            " 0   match_id          194354 non-null  int64  \n",
            " 1   season            194354 non-null  int64  \n",
            " 2   start_date        194354 non-null  object \n",
            " 3   venue             194354 non-null  object \n",
            " 4   innings           194354 non-null  int64  \n",
            " 5   ball              194354 non-null  float64\n",
            " 6   batting_team      194354 non-null  object \n",
            " 7   bowling_team      194354 non-null  object \n",
            " 8   striker           194354 non-null  object \n",
            " 9   non_striker       194354 non-null  object \n",
            " 10  bowler            194354 non-null  object \n",
            " 11  runs_off_bat      194354 non-null  int64  \n",
            " 12  extras            194354 non-null  int64  \n",
            " 13  wides             194354 non-null  float64\n",
            " 14  noballs           194354 non-null  float64\n",
            " 15  byes              194354 non-null  float64\n",
            " 16  legbyes           194354 non-null  float64\n",
            " 17  wicket_type       194354 non-null  object \n",
            " 18  player_dismissed  194354 non-null  object \n",
            " 19  run               194354 non-null  int64  \n",
            " 20  over              194354 non-null  int64  \n",
            "dtypes: float64(5), int64(7), object(9)\n",
            "memory usage: 31.1+ MB\n"
          ]
        }
      ]
    },
    {
      "cell_type": "code",
      "source": [
        "#IPL Data Analysis and Visualization with Python\n",
        "\n",
        "\n",
        "#i) General Analysis of IPL Matches \n",
        "#1. List of Seasons\n",
        "df['season'].unique()"
      ],
      "metadata": {
        "colab": {
          "base_uri": "https://localhost:8080/"
        },
        "id": "2vxgHxBmxvCY",
        "outputId": "cbd57e0e-4ccb-424b-a91c-755b47557ac8"
      },
      "execution_count": null,
      "outputs": [
        {
          "output_type": "execute_result",
          "data": {
            "text/plain": [
              "array([2008, 2009, 2010, 2011, 2012, 2013, 2014, 2015, 2016, 2017, 2019,\n",
              "       2018, 2020, 2021])"
            ]
          },
          "metadata": {},
          "execution_count": 7
        }
      ]
    },
    {
      "cell_type": "code",
      "source": [
        "#2. First ball of IPL history\n",
        "\n",
        "\n",
        "\n",
        "df.iloc[0]\n"
      ],
      "metadata": {
        "colab": {
          "base_uri": "https://localhost:8080/"
        },
        "id": "vw0HFW_sx5sX",
        "outputId": "744ea58d-8ad8-4a0a-d6dc-aa7196d8b319"
      },
      "execution_count": null,
      "outputs": [
        {
          "output_type": "execute_result",
          "data": {
            "text/plain": [
              "match_id                                 335982\n",
              "season                                     2008\n",
              "start_date                           2008-04-18\n",
              "venue                     M.Chinnaswamy Stadium\n",
              "innings                                       1\n",
              "ball                                        0.1\n",
              "batting_team              Kolkata Knight Riders\n",
              "bowling_team        Royal Challengers Bangalore\n",
              "striker                              SC Ganguly\n",
              "non_striker                         BB McCullum\n",
              "bowler                                  P Kumar\n",
              "runs_off_bat                                  0\n",
              "extras                                        1\n",
              "wides                                       0.0\n",
              "noballs                                     0.0\n",
              "byes                                        0.0\n",
              "legbyes                                     1.0\n",
              "wicket_type                                    \n",
              "player_dismissed                               \n",
              "run                                           1\n",
              "over                                          0\n",
              "Name: 0, dtype: object"
            ]
          },
          "metadata": {},
          "execution_count": 5
        }
      ]
    },
    {
      "cell_type": "code",
      "source": [
        "#3. Season Wise IPL Matches\n",
        "import seaborn as sns\n",
        "import matplotlib.pyplot as plt\n",
        "%matplotlib inline\n",
        "\n",
        "\n",
        "\n",
        "plt.figure(figsize=(10,8))\n",
        "data = df.groupby(['match_id','season']).count().index.droplevel(level=0).value_counts().sort_index()\n",
        "sns.barplot(y=data.index,x=data,orient='h')\n",
        "plt.xlabel('Matches Played')\n",
        "plt.ylabel('Season')\n",
        "plt.show()\n"
      ],
      "metadata": {
        "colab": {
          "base_uri": "https://localhost:8080/",
          "height": 497
        },
        "id": "d7mxKB7hykdV",
        "outputId": "86bcd830-3d83-408e-bf1e-c002bdc63a48"
      },
      "execution_count": null,
      "outputs": [
        {
          "output_type": "display_data",
          "data": {
            "text/plain": [
              "<Figure size 720x576 with 1 Axes>"
            ],
            "image/png": "[encoded data removed]"
          },
          "metadata": {
            "needs_background": "light"
          }
        }
      ]
    },
    {
      "cell_type": "code",
      "source": [
        "#4. Most IPL Matches played in a Venue\n",
        "\n",
        "\n",
        "\n",
        "df.groupby(['venue','match_id']).count().droplevel(level=1).index.value_counts()\n"
      ],
      "metadata": {
        "colab": {
          "base_uri": "https://localhost:8080/"
        },
        "id": "WCWQe_Ldy8ff",
        "outputId": "6c040a5c-187c-4b14-9728-adddaaf470ed"
      },
      "execution_count": null,
      "outputs": [
        {
          "output_type": "execute_result",
          "data": {
            "text/plain": [
              "M.Chinnaswamy Stadium                                   80\n",
              "Eden Gardens                                            77\n",
              "Arun Jaitley Stadium                                    74\n",
              "Wankhede Stadium, Mumbai                                74\n",
              "Rajiv Gandhi International Stadium, Uppal               64\n",
              "MA Chidambaram Stadium, Chepauk, Chennai                59\n",
              "Punjab Cricket Association IS Bindra Stadium, Mohali    56\n",
              "Sawai Mansingh Stadium                                  47\n",
              "Dubai International Cricket Stadium                     33\n",
              "Sheikh Zayed Stadium                                    29\n",
              "Maharashtra Cricket Association Stadium                 21\n",
              "Sharjah Cricket Stadium                                 18\n",
              "Dr DY Patil Sports Academy                              17\n",
              "Subrata Roy Sahara Stadium                              17\n",
              "Kingsmead                                               15\n",
              "Dr. Y.S. Rajasekhara Reddy ACA-VDCA Cricket Stadium     13\n",
              "SuperSport Park                                         12\n",
              "Sardar Patel Stadium, Motera                            12\n",
              "Brabourne Stadium                                       11\n",
              "Saurashtra Cricket Association Stadium                  10\n",
              "Holkar Cricket Stadium                                   9\n",
              "Himachal Pradesh Cricket Association Stadium             9\n",
              "New Wanderers Stadium                                    8\n",
              "JSCA International Stadium Complex                       7\n",
              "Barabati Stadium                                         7\n",
              "St George's Park                                         7\n",
              "Newlands                                                 7\n",
              "Shaheed Veer Narayan Singh International Stadium         6\n",
              "Nehru Stadium                                            5\n",
              "Green Park                                               4\n",
              "Buffalo Park                                             3\n",
              "Vidarbha Cricket Association Stadium, Jamtha             3\n",
              "De Beers Diamond Oval                                    3\n",
              "OUTsurance Oval                                          2\n",
              "Name: venue, dtype: int64"
            ]
          },
          "metadata": {},
          "execution_count": 7
        }
      ]
    },
    {
      "cell_type": "code",
      "source": [
        "#5. IPL Matches Played by Each Team\n",
        "import seaborn as sns\n",
        "import matplotlib.pyplot as plt\n",
        "%matplotlib inline\n",
        "\n",
        "\n",
        "\n",
        "plt.figure(figsize=(10,8))\n",
        "data = df['bowling_team'].value_counts().sort_values(ascending=False)\n",
        "sns.barplot(y=data.index,x=data,orient='h')\n",
        "plt.xlabel('Matches Played')\n",
        "plt.ylabel('Team')\n",
        "plt.show()\n"
      ],
      "metadata": {
        "colab": {
          "base_uri": "https://localhost:8080/",
          "height": 497
        },
        "id": "_ZN_IdSMzD10",
        "outputId": "5cadc04c-a688-48b5-ebe3-d640fe7b1f25"
      },
      "execution_count": null,
      "outputs": [
        {
          "output_type": "display_data",
          "data": {
            "text/plain": [
              "<Figure size 720x576 with 1 Axes>"
            ],
            "image/png": "[encoded data removed]"
          },
          "metadata": {
            "needs_background": "light"
          }
        }
      ]
    },
    {
      "cell_type": "code",
      "source": [
        "#ii) IPL Batting Analysis\n",
        "#6. Most Run Scored by IPL Teams\n",
        "\n",
        "\n",
        "\n",
        "df.groupby(['batting_team'])['run'].sum().sort_values(ascending=False)\n"
      ],
      "metadata": {
        "colab": {
          "base_uri": "https://localhost:8080/"
        },
        "id": "uZYf8hoHzjUl",
        "outputId": "c0a527a0-432b-4665-8279-343c19a7d5a6"
      },
      "execution_count": null,
      "outputs": [
        {
          "output_type": "execute_result",
          "data": {
            "text/plain": [
              "batting_team\n",
              "Mumbai Indians                 32488\n",
              "Royal Challengers Bangalore    30415\n",
              "Kings XI Punjab                30064\n",
              "Kolkata Knight Riders          29606\n",
              "Chennai Super Kings            28560\n",
              "Rajasthan Royals               24542\n",
              "Delhi Daredevils               24296\n",
              "Sunrisers Hyderabad            19539\n",
              "Deccan Chargers                11463\n",
              "Pune Warriors                   6358\n",
              "Delhi Capitals                  5499\n",
              "Gujarat Lions                   4862\n",
              "Rising Pune Supergiant          4533\n",
              "Kochi Tuskers Kerala            1901\n",
              "Name: run, dtype: int64"
            ]
          },
          "metadata": {},
          "execution_count": 11
        }
      ]
    },
    {
      "cell_type": "code",
      "source": [
        ""
      ],
      "metadata": {
        "id": "wV4ywPqcOzCG"
      },
      "execution_count": null,
      "outputs": []
    },
    {
      "cell_type": "code",
      "source": [
        "#7. Most IPL Runs by a Batsman\n",
        "\n",
        "\n",
        "\n",
        "plt.figure(figsize=(10,8))\n",
        "data = df.groupby(['striker'])['runs_off_bat'].sum().sort_values(ascending=False)[:10]\n",
        "sns.barplot(y=data.index,x=data,orient='h')\n",
        "plt.xlabel('Batsman')\n",
        "plt.ylabel('Runs')\n",
        "plt.show()"
      ],
      "metadata": {
        "colab": {
          "base_uri": "https://localhost:8080/",
          "height": 497
        },
        "id": "csrpshEtz90k",
        "outputId": "3e5951ad-f6aa-486a-d2e2-8c4c542090be"
      },
      "execution_count": null,
      "outputs": [
        {
          "output_type": "display_data",
          "data": {
            "text/plain": [
              "<Figure size 720x576 with 1 Axes>"
            ],
            "image/png": "[encoded data removed]"
          },
          "metadata": {
            "needs_background": "light"
          }
        }
      ]
    },
    {
      "cell_type": "code",
      "source": [
        "#iii) Bowling Statistics\n",
        "# Most run conceded by a bowler in an inning\n",
        "df.groupby(['bowler','start_date'])['run'].sum().droplevel(level=1).sort_values(ascending=False)[:10]"
      ],
      "metadata": {
        "colab": {
          "base_uri": "https://localhost:8080/"
        },
        "id": "dj9E6DtiOevC",
        "outputId": "3782ed74-0343-448d-8a76-94fa1a64c32c"
      },
      "execution_count": null,
      "outputs": [
        {
          "output_type": "execute_result",
          "data": {
            "text/plain": [
              "bowler\n",
              "Basil Thampi        70\n",
              "Sandeep Sharma      66\n",
              "Mujeeb Ur Rahman    66\n",
              "I Sharma            66\n",
              "PJ Cummins          65\n",
              "UT Yadav            65\n",
              "AS Rajpoot          64\n",
              "S Kaul              64\n",
              "AB Dinda            63\n",
              "TA Boult            63\n",
              "Name: run, dtype: int64"
            ]
          },
          "metadata": {},
          "execution_count": 4
        }
      ]
    },
    {
      "cell_type": "code",
      "source": [
        "#Most IPL Wickets by a Bowler\n",
        "lst = 'caught,bowled,lbw,stumped,caught and bowled,hit wicket'\n",
        "df[df['wicket_type'].apply(lambda x: True if x in lst and x != ' ' else False)]['bowler'].value_counts()[:10]\n"
      ],
      "metadata": {
        "colab": {
          "base_uri": "https://localhost:8080/"
        },
        "id": "8JnYTuKgO9ZT",
        "outputId": "23941f3c-21de-4c33-cd31-3e00f6a1eaba"
      },
      "execution_count": null,
      "outputs": [
        {
          "output_type": "execute_result",
          "data": {
            "text/plain": [
              "SL Malinga         170\n",
              "A Mishra           160\n",
              "PP Chawla          156\n",
              "DJ Bravo           154\n",
              "Harbhajan Singh    150\n",
              "R Ashwin           139\n",
              "B Kumar            137\n",
              "SP Narine          127\n",
              "YS Chahal          121\n",
              "UT Yadav           119\n",
              "Name: bowler, dtype: int64"
            ]
          },
          "metadata": {},
          "execution_count": 5
        }
      ]
    },
    {
      "cell_type": "code",
      "source": [
        "#Most Dot Ball by a Bowler\n",
        "\n",
        "#the Indian bowler Harbhajan Singh has bowled the most number of Dot balls followed by R. Ashwin and Bhuvneshwar Kumar\n",
        "import matplotlib.pyplot as plt\n",
        "%matplotlib inline\n",
        "import seaborn as sns\n",
        "\n",
        "plt.figure(figsize=(10,8))\n",
        "data = df[df['run'] == 0].groupby('bowler').count()['match_id'].sort_values(ascending=False)[:10]\n",
        "sns.barplot(y=data.index,x=data,orient='h')\n",
        "plt.xlabel('Dot Balls')\n",
        "plt.ylabel('bowler')\n",
        "plt.show()\n"
      ],
      "metadata": {
        "colab": {
          "base_uri": "https://localhost:8080/",
          "height": 497
        },
        "id": "0GdsN6K6PFnS",
        "outputId": "ce443bdb-e39a-465e-8adc-135a057bd4f1"
      },
      "execution_count": null,
      "outputs": [
        {
          "output_type": "display_data",
          "data": {
            "text/plain": [
              "<Figure size 720x576 with 1 Axes>"
            ],
            "image/png": "[encoded data removed]"
          },
          "metadata": {
            "needs_background": "light"
          }
        }
      ]
    },
    {
      "cell_type": "code",
      "source": [
        " #Most Maiden over by a Bowler\n",
        "\n",
        "#Indian right-hand medium-pacer bowler Praveen Kumar is at the top of the list with the most maiden overs followed by Irfan Pathan and Dale Stain.\n",
        "\n",
        "\n",
        "data = df.groupby(['start_date','bowler','over'])['run'].sum()\n",
        "data = data[data.values == 0].droplevel(level=[0,2])\n",
        "data.index.value_counts()[:10]\n"
      ],
      "metadata": {
        "colab": {
          "base_uri": "https://localhost:8080/"
        },
        "id": "bnWzXKsCPre7",
        "outputId": "1063c862-64e2-4d4e-9983-469a2b27de94"
      },
      "execution_count": null,
      "outputs": [
        {
          "output_type": "execute_result",
          "data": {
            "text/plain": [
              "P Kumar           12\n",
              "IK Pathan          9\n",
              "SL Malinga         8\n",
              "DW Steyn           8\n",
              "B Kumar            7\n",
              "DS Kulkarni        7\n",
              "Sandeep Sharma     6\n",
              "DJ Bravo           6\n",
              "R Ashwin           5\n",
              "Z Khan             5\n",
              "Name: bowler, dtype: int64"
            ]
          },
          "metadata": {},
          "execution_count": 8
        }
      ]
    },
    {
      "cell_type": "code",
      "source": [
        "#24. Most Wickets by an IPL Team\n",
        "\n",
        "#The Mumbai Indian has taken the most number of wickets in IPL followed by Royal Challengers Banglore and Chennai Super Kings\n",
        "\n",
        "\n",
        "plt.figure(figsize=(10,8))\n",
        "lst = 'caught,bowled,lbw,stumped,caught and bowled,hit wicket'\n",
        "data = df[df['wicket_type'].apply(lambda x: True if x in lst and x != ' ' else False)]['bowling_team'].value_counts()\n",
        "df.groupby(['batting_team'])['extras'].agg('sum').sort_values(ascending=False)\n",
        "sns.barplot(y=data.index,x=data,orient='h')\n",
        "plt.xlabel('Wickets')\n",
        "plt.ylabel('Teams')\n",
        "plt.show()\n"
      ],
      "metadata": {
        "colab": {
          "base_uri": "https://localhost:8080/",
          "height": 497
        },
        "id": "d7BnvG5PPxHa",
        "outputId": "e94ab80d-2cab-4c2d-d057-4437cf51dc2f"
      },
      "execution_count": null,
      "outputs": [
        {
          "output_type": "display_data",
          "data": {
            "text/plain": [
              "<Figure size 720x576 with 1 Axes>"
            ],
            "image/png": "[encoded data removed]"
          },
          "metadata": {
            "needs_background": "light"
          }
        }
      ]
    },
    {
      "cell_type": "code",
      "source": [
        "#Most No Balls by an IPL team\n",
        "\n",
        "#Royal Challengers Bangalore has given most no balls followed by Mumbai Indians and Chennai Super Kings\n",
        "\n",
        "\n",
        "df.groupby(['batting_team'])['noballs'].agg('sum').sort_values(ascending=False)\n"
      ],
      "metadata": {
        "colab": {
          "base_uri": "https://localhost:8080/"
        },
        "id": "Vx5bHrzYQB_L",
        "outputId": "487b2a9a-72ac-414b-9331-a30b8c6ad58c"
      },
      "execution_count": null,
      "outputs": [
        {
          "output_type": "execute_result",
          "data": {
            "text/plain": [
              "batting_team\n",
              "Royal Challengers Bangalore    106.0\n",
              "Chennai Super Kings             96.0\n",
              "Mumbai Indians                  96.0\n",
              "Rajasthan Royals                94.0\n",
              "Kolkata Knight Riders           90.0\n",
              "Delhi Daredevils                73.0\n",
              "Kings XI Punjab                 71.0\n",
              "Sunrisers Hyderabad             53.0\n",
              "Deccan Chargers                 49.0\n",
              "Pune Warriors                   24.0\n",
              "Delhi Capitals                  21.0\n",
              "Gujarat Lions                   17.0\n",
              "Kochi Tuskers Kerala            11.0\n",
              "Rising Pune Supergiant           8.0\n",
              "Name: noballs, dtype: float64"
            ]
          },
          "metadata": {},
          "execution_count": 10
        }
      ]
    },
    {
      "cell_type": "code",
      "source": [
        "#Most No Balls by an IPL Bowler\n",
        "\n",
        "#Indian bowler S Sreesanth has bowled the most number of no balls followed by Jasprit Bumrah and Amit Mishra\n",
        "\n",
        "\n",
        "df[df['noballs'] != 0]['bowler'].value_counts()[:10]\n"
      ],
      "metadata": {
        "colab": {
          "base_uri": "https://localhost:8080/"
        },
        "id": "L_oL-yq3QP-q",
        "outputId": "af292500-97d7-4c05-d74b-65e5047805d9"
      },
      "execution_count": null,
      "outputs": [
        {
          "output_type": "execute_result",
          "data": {
            "text/plain": [
              "S Sreesanth    23\n",
              "JJ Bumrah      23\n",
              "A Mishra       21\n",
              "I Sharma       21\n",
              "UT Yadav       19\n",
              "SL Malinga     18\n",
              "AB Dinda       14\n",
              "JA Morkel      13\n",
              "M Morkel       13\n",
              "RP Singh       13\n",
              "Name: bowler, dtype: int64"
            ]
          },
          "metadata": {},
          "execution_count": 11
        }
      ]
    },
    {
      "cell_type": "code",
      "source": [
        "#Most run given by a team in Extras\n",
        "\n",
        "#Mumbai Indians have given the most number of extras (byes, no balls, wides) followed by Kolkata Knight Riders and Kings XI Punjab.\n",
        "import matplotlib.pyplot as plt\n",
        "%matplotlib inline\n",
        "import seaborn as sns\n",
        "\n",
        "\n",
        "plt.figure(figsize=(10,8))\n",
        "data = df.groupby(['batting_team'])['extras'].agg('sum').sort_values(ascending=False)\n",
        "sns.barplot(y=data.index,x=data,orient='h')\n",
        "plt.xlabel('Runs')\n",
        "plt.ylabel('Teams')\n",
        "plt.show()\n"
      ],
      "metadata": {
        "colab": {
          "base_uri": "https://localhost:8080/",
          "height": 497
        },
        "id": "WOh6Gpb8QVyT",
        "outputId": "f073a61f-3a18-44f0-c144-b53b3779c353"
      },
      "execution_count": null,
      "outputs": [
        {
          "output_type": "display_data",
          "data": {
            "text/plain": [
              "<Figure size 720x576 with 1 Axes>"
            ],
            "image/png": "[encoded data removed]"
          },
          "metadata": {
            "needs_background": "light"
          }
        }
      ]
    },
    {
      "cell_type": "code",
      "source": [
        "#Most Wides Conceded by an IPL team\n",
        "\n",
        "#Mumbai Indians has given most wides followed by Kolkata Knight Riders and Royal Challengers Bangalore\n",
        "\n",
        "\n",
        "df.groupby(['batting_team'])['wides'].agg('sum').sort_values(ascending=False)\n"
      ],
      "metadata": {
        "colab": {
          "base_uri": "https://localhost:8080/"
        },
        "id": "DLXsgXw8QqvT",
        "outputId": "676d6a6c-0c36-47d7-9e09-9e33e2c96ae1"
      },
      "execution_count": null,
      "outputs": [
        {
          "output_type": "execute_result",
          "data": {
            "text/plain": [
              "batting_team\n",
              "Mumbai Indians                 1002.0\n",
              "Kolkata Knight Riders           912.0\n",
              "Royal Challengers Bangalore     814.0\n",
              "Kings XI Punjab                 786.0\n",
              "Chennai Super Kings             785.0\n",
              "Delhi Daredevils                717.0\n",
              "Rajasthan Royals                652.0\n",
              "Sunrisers Hyderabad             548.0\n",
              "Deccan Chargers                 279.0\n",
              "Pune Warriors                   169.0\n",
              "Gujarat Lions                   134.0\n",
              "Rising Pune Supergiant          118.0\n",
              "Delhi Capitals                  117.0\n",
              "Kochi Tuskers Kerala             89.0\n",
              "Name: wides, dtype: float64"
            ]
          },
          "metadata": {},
          "execution_count": 13
        }
      ]
    },
    {
      "cell_type": "code",
      "source": [
        "# Most IPL Century by a Player\n",
        "\n",
        "#The Universe Boss Chris Gayle is at the top of the list in scoring the most number of centuries in IPL history. He has hit six tons and has scored 4804 runs in IPL.\n",
        "\n",
        "#His former teammate Virat Kohli has scored five hundred’s and he is at the second spot in the list followed by Watson, AB de Villiers, Brendon McCullum, and David Warner.\n",
        "\n",
        "#This can be calculated by grouping the columns striker and match_id and then calculating the sum.\n",
        "\n",
        "\n",
        "runs = df.groupby(['striker','match_id'])['runs_off_bat'].sum()\n",
        "runs[runs >= 100].droplevel(level=1).groupby('striker').count().sort_values(ascending=False)"
      ],
      "metadata": {
        "colab": {
          "base_uri": "https://localhost:8080/"
        },
        "id": "d5xX5_WUrZTb",
        "outputId": "4922f368-2ce6-421b-d13e-54ce43a7417c"
      },
      "execution_count": null,
      "outputs": [
        {
          "output_type": "execute_result",
          "data": {
            "text/plain": [
              "striker\n",
              "CH Gayle            6\n",
              "V Kohli             5\n",
              "DA Warner           4\n",
              "SR Watson           4\n",
              "AB de Villiers      3\n",
              "HM Amla             2\n",
              "M Vijay             2\n",
              "KL Rahul            2\n",
              "SV Samson           2\n",
              "S Dhawan            2\n",
              "V Sehwag            2\n",
              "BB McCullum         2\n",
              "BA Stokes           2\n",
              "AM Rahane           2\n",
              "AC Gilchrist        2\n",
              "RR Pant             1\n",
              "ST Jayasuriya       1\n",
              "WP Saha             1\n",
              "SR Tendulkar        1\n",
              "SPD Smith           1\n",
              "SK Raina            1\n",
              "SE Marsh            1\n",
              "A Symonds           1\n",
              "MEK Hussey          1\n",
              "RG Sharma           1\n",
              "Q de Kock           1\n",
              "PC Valthaty         1\n",
              "MK Pandey           1\n",
              "MA Agarwal          1\n",
              "LMP Simmons         1\n",
              "KP Pietersen        1\n",
              "JM Bairstow         1\n",
              "DPMD Jayawardene    1\n",
              "DA Miller           1\n",
              "AT Rayudu           1\n",
              "YK Pathan           1\n",
              "Name: runs_off_bat, dtype: int64"
            ]
          },
          "metadata": {},
          "execution_count": 14
        }
      ]
    },
    {
      "cell_type": "code",
      "source": [
        "# Most IPL Fifty by Player\n",
        "\n",
        "#When a number of the fifties comes Warner is top in the list followed by Virat Kohli and Shikhar Dhawan. This will also be calculated by the same method as above, plus we have shown a bar graph visualization for better representation.\n",
        "import matplotlib.pyplot as plt\n",
        "%matplotlib inline\n",
        "import seaborn as sns\n",
        "\n",
        "\n",
        "plt.figure(figsize=(10,8))\n",
        "runs = df.groupby(['striker','start_date'])['runs_off_bat'].sum()\n",
        "data = runs[runs >= 50].droplevel(level=1).groupby('striker').count().sort_values(ascending=False)[:10]\n",
        "sns.barplot(y=data.index,x=data,orient='h')\n",
        "plt.xlabel('Half-Centuries')\n",
        "plt.ylabel('Batsman')\n",
        "plt.show()\n"
      ],
      "metadata": {
        "colab": {
          "base_uri": "https://localhost:8080/",
          "height": 497
        },
        "id": "fGjvuic3rrZE",
        "outputId": "5b164922-b2db-4e49-b245-7748161ace31"
      },
      "execution_count": null,
      "outputs": [
        {
          "output_type": "display_data",
          "data": {
            "text/plain": [
              "<Figure size 720x576 with 1 Axes>"
            ],
            "image/png": "[encoded data removed]"
          },
          "metadata": {
            "needs_background": "light"
          }
        }
      ]
    }
  ],
  "metadata": {
    "colab": {
      "name": "ipl data analysis",
      "provenance": [],
      "collapsed_sections": [],
      "include_colab_link": true
    },
    "kernelspec": {
      "display_name": "Python 3",
      "name": "python3"
    },
    "language_info": {
      "name": "python"
    }
  },
  "nbformat": 4,
  "nbformat_minor": 0
}